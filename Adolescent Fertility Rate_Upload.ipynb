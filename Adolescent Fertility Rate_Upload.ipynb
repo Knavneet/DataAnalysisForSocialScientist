{
 "cells": [
  {
   "cell_type": "markdown",
   "metadata": {},
   "source": [
    "## Adolescent Fertility Rate"
   ]
  },
  {
   "cell_type": "markdown",
   "metadata": {},
   "source": [
    "In this problem set we will guide you through different ways of accessing real data sets and how to summarize and describe it properly. First we will go through some of the data that is collected by the World Bank. We will do some cleaning on the data before we start analyzing it. Then, we will try to do a simple web scraping exercise where we will analyze the data as well.\n",
    "\n",
    "\n",
    "Let’s start with this dataset from the World Bank.  Please download and save this file in a folder where you can get it easily.\n",
    "\n",
    "This dataset is from the World Bank Gender Statistics website. You may visit the website and explore other datasets they offer. However, for the purposes of this assignment, please use the file in this set of instructions, since the dataset on the World Bank website may have been updated in the time since this problem set and answer key was posted.\n",
    "\n",
    "\n",
    "\n",
    "For the purpose of analyzing the data, we are going to use Python. WE are going to see there are multiple indicators of gender, countries and years in the data. \n",
    "\n",
    "In this case we are just interested in analyzing the data for one indicator that is the Adolescent Fertility Rate, in the data the indicator code for this variable is called SP.ADO.TFRT . \n",
    "\n",
    "This indicator measures the annual number of births to women 15 to 19 years of age per 1,000 women in that age group. It represents the risk of childbearing among adolescent women 15 to 19 years of age. It is also referred to as the age-specific fertility rate for women aged 15-19. Once we complete this assignment set we’ll have more information of how this rate has evolved over time and how it varies across different groups of countries."
   ]
  },
  {
   "cell_type": "code",
   "execution_count": 9,
   "metadata": {},
   "outputs": [],
   "source": [
    "import pandas as pd\n",
    "%matplotlib inline \n",
    "import seaborn as sns \n",
    "import numpy as np\n",
    "import matplotlib.pyplot as plt\n",
    "#sns.distplot(np.random.binomial(8,0.2,1000),kde=False,norm_hist=True)"
   ]
  },
  {
   "cell_type": "code",
   "execution_count": 48,
   "metadata": {},
   "outputs": [
    {
     "name": "stdout",
     "output_type": "stream",
     "text": [
      "(165690, 63)\n",
      "(263, 63)\n"
     ]
    },
    {
     "data": {
      "text/html": [
       "<div>\n",
       "<style scoped>\n",
       "    .dataframe tbody tr th:only-of-type {\n",
       "        vertical-align: middle;\n",
       "    }\n",
       "\n",
       "    .dataframe tbody tr th {\n",
       "        vertical-align: top;\n",
       "    }\n",
       "\n",
       "    .dataframe thead th {\n",
       "        text-align: right;\n",
       "    }\n",
       "</style>\n",
       "<table border=\"1\" class=\"dataframe\">\n",
       "  <thead>\n",
       "    <tr style=\"text-align: right;\">\n",
       "      <th></th>\n",
       "      <th>Country Name</th>\n",
       "      <th>Country Code</th>\n",
       "      <th>Indicator Name</th>\n",
       "      <th>Indicator Code</th>\n",
       "      <th>1960</th>\n",
       "      <th>1961</th>\n",
       "      <th>1962</th>\n",
       "      <th>1963</th>\n",
       "      <th>1964</th>\n",
       "      <th>1965</th>\n",
       "      <th>...</th>\n",
       "      <th>2009</th>\n",
       "      <th>2010</th>\n",
       "      <th>2011</th>\n",
       "      <th>2012</th>\n",
       "      <th>2013</th>\n",
       "      <th>2014</th>\n",
       "      <th>2015</th>\n",
       "      <th>2016</th>\n",
       "      <th>2017</th>\n",
       "      <th>Unnamed: 62</th>\n",
       "    </tr>\n",
       "  </thead>\n",
       "  <tbody>\n",
       "    <tr>\n",
       "      <td>8</td>\n",
       "      <td>Arab World</td>\n",
       "      <td>ARB</td>\n",
       "      <td>Adolescent fertility rate (births per 1,000 wo...</td>\n",
       "      <td>SP.ADO.TFRT</td>\n",
       "      <td>133.580357</td>\n",
       "      <td>134.183621</td>\n",
       "      <td>134.886474</td>\n",
       "      <td>134.540705</td>\n",
       "      <td>134.149424</td>\n",
       "      <td>133.621761</td>\n",
       "      <td>...</td>\n",
       "      <td>50.047409</td>\n",
       "      <td>49.944262</td>\n",
       "      <td>49.818562</td>\n",
       "      <td>49.676750</td>\n",
       "      <td>49.088242</td>\n",
       "      <td>48.479108</td>\n",
       "      <td>47.818493</td>\n",
       "      <td>NaN</td>\n",
       "      <td>NaN</td>\n",
       "      <td>NaN</td>\n",
       "    </tr>\n",
       "    <tr>\n",
       "      <td>638</td>\n",
       "      <td>Caribbean small states</td>\n",
       "      <td>CSS</td>\n",
       "      <td>Adolescent fertility rate (births per 1,000 wo...</td>\n",
       "      <td>SP.ADO.TFRT</td>\n",
       "      <td>162.799240</td>\n",
       "      <td>162.849609</td>\n",
       "      <td>163.123821</td>\n",
       "      <td>161.155269</td>\n",
       "      <td>159.441456</td>\n",
       "      <td>157.733145</td>\n",
       "      <td>...</td>\n",
       "      <td>62.249749</td>\n",
       "      <td>61.360740</td>\n",
       "      <td>60.517666</td>\n",
       "      <td>59.603078</td>\n",
       "      <td>58.409630</td>\n",
       "      <td>57.160052</td>\n",
       "      <td>55.853669</td>\n",
       "      <td>NaN</td>\n",
       "      <td>NaN</td>\n",
       "      <td>NaN</td>\n",
       "    </tr>\n",
       "    <tr>\n",
       "      <td>1268</td>\n",
       "      <td>Central Europe and the Baltics</td>\n",
       "      <td>CEB</td>\n",
       "      <td>Adolescent fertility rate (births per 1,000 wo...</td>\n",
       "      <td>SP.ADO.TFRT</td>\n",
       "      <td>46.716752</td>\n",
       "      <td>46.054425</td>\n",
       "      <td>45.345639</td>\n",
       "      <td>45.529701</td>\n",
       "      <td>45.684331</td>\n",
       "      <td>45.834355</td>\n",
       "      <td>...</td>\n",
       "      <td>21.428494</td>\n",
       "      <td>21.088440</td>\n",
       "      <td>20.811315</td>\n",
       "      <td>20.629395</td>\n",
       "      <td>20.062750</td>\n",
       "      <td>19.519840</td>\n",
       "      <td>18.947362</td>\n",
       "      <td>NaN</td>\n",
       "      <td>NaN</td>\n",
       "      <td>NaN</td>\n",
       "    </tr>\n",
       "    <tr>\n",
       "      <td>1898</td>\n",
       "      <td>Early-demographic dividend</td>\n",
       "      <td>EAR</td>\n",
       "      <td>Adolescent fertility rate (births per 1,000 wo...</td>\n",
       "      <td>SP.ADO.TFRT</td>\n",
       "      <td>116.431916</td>\n",
       "      <td>116.743848</td>\n",
       "      <td>117.052144</td>\n",
       "      <td>117.173139</td>\n",
       "      <td>117.226848</td>\n",
       "      <td>117.201368</td>\n",
       "      <td>...</td>\n",
       "      <td>49.171107</td>\n",
       "      <td>47.685946</td>\n",
       "      <td>46.181590</td>\n",
       "      <td>44.653303</td>\n",
       "      <td>43.179135</td>\n",
       "      <td>41.685074</td>\n",
       "      <td>40.175944</td>\n",
       "      <td>NaN</td>\n",
       "      <td>NaN</td>\n",
       "      <td>NaN</td>\n",
       "    </tr>\n",
       "    <tr>\n",
       "      <td>2528</td>\n",
       "      <td>East Asia &amp; Pacific</td>\n",
       "      <td>EAS</td>\n",
       "      <td>Adolescent fertility rate (births per 1,000 wo...</td>\n",
       "      <td>SP.ADO.TFRT</td>\n",
       "      <td>66.001714</td>\n",
       "      <td>64.895357</td>\n",
       "      <td>63.841032</td>\n",
       "      <td>61.971833</td>\n",
       "      <td>60.206090</td>\n",
       "      <td>58.585212</td>\n",
       "      <td>...</td>\n",
       "      <td>18.857649</td>\n",
       "      <td>19.334606</td>\n",
       "      <td>19.866540</td>\n",
       "      <td>20.411074</td>\n",
       "      <td>20.907671</td>\n",
       "      <td>21.358688</td>\n",
       "      <td>21.738901</td>\n",
       "      <td>NaN</td>\n",
       "      <td>NaN</td>\n",
       "      <td>NaN</td>\n",
       "    </tr>\n",
       "  </tbody>\n",
       "</table>\n",
       "<p>5 rows × 63 columns</p>\n",
       "</div>"
      ],
      "text/plain": [
       "                        Country Name Country Code  \\\n",
       "8                         Arab World          ARB   \n",
       "638           Caribbean small states          CSS   \n",
       "1268  Central Europe and the Baltics          CEB   \n",
       "1898      Early-demographic dividend          EAR   \n",
       "2528             East Asia & Pacific          EAS   \n",
       "\n",
       "                                         Indicator Name Indicator Code  \\\n",
       "8     Adolescent fertility rate (births per 1,000 wo...    SP.ADO.TFRT   \n",
       "638   Adolescent fertility rate (births per 1,000 wo...    SP.ADO.TFRT   \n",
       "1268  Adolescent fertility rate (births per 1,000 wo...    SP.ADO.TFRT   \n",
       "1898  Adolescent fertility rate (births per 1,000 wo...    SP.ADO.TFRT   \n",
       "2528  Adolescent fertility rate (births per 1,000 wo...    SP.ADO.TFRT   \n",
       "\n",
       "            1960        1961        1962        1963        1964        1965  \\\n",
       "8     133.580357  134.183621  134.886474  134.540705  134.149424  133.621761   \n",
       "638   162.799240  162.849609  163.123821  161.155269  159.441456  157.733145   \n",
       "1268   46.716752   46.054425   45.345639   45.529701   45.684331   45.834355   \n",
       "1898  116.431916  116.743848  117.052144  117.173139  117.226848  117.201368   \n",
       "2528   66.001714   64.895357   63.841032   61.971833   60.206090   58.585212   \n",
       "\n",
       "      ...       2009       2010       2011       2012       2013       2014  \\\n",
       "8     ...  50.047409  49.944262  49.818562  49.676750  49.088242  48.479108   \n",
       "638   ...  62.249749  61.360740  60.517666  59.603078  58.409630  57.160052   \n",
       "1268  ...  21.428494  21.088440  20.811315  20.629395  20.062750  19.519840   \n",
       "1898  ...  49.171107  47.685946  46.181590  44.653303  43.179135  41.685074   \n",
       "2528  ...  18.857649  19.334606  19.866540  20.411074  20.907671  21.358688   \n",
       "\n",
       "           2015  2016  2017  Unnamed: 62  \n",
       "8     47.818493   NaN   NaN          NaN  \n",
       "638   55.853669   NaN   NaN          NaN  \n",
       "1268  18.947362   NaN   NaN          NaN  \n",
       "1898  40.175944   NaN   NaN          NaN  \n",
       "2528  21.738901   NaN   NaN          NaN  \n",
       "\n",
       "[5 rows x 63 columns]"
      ]
     },
     "execution_count": 48,
     "metadata": {},
     "output_type": "execute_result"
    }
   ],
   "source": [
    "data = pd.read_csv(\"/home/Navneet/Gender_StatsData (1).csv\")\n",
    "print(data.shape)\n",
    "teenager_fr = data[data[\"Indicator Code\"] == \"SP.ADO.TFRT\"]\n",
    "print(teenager_fr.shape)\n",
    "teenager_fr.head()"
   ]
  },
  {
   "cell_type": "markdown",
   "metadata": {},
   "source": [
    "Now, we are interested in plotting the evolution of the Adolescent Fertility Rate from 1960 to 2015. \n",
    "In addition, we are interested in having different information in the same plot. \n",
    "First, we want to plot the sample mean of all the data set, but also we want to add more information such as the rate for low, middle and high income countries (an indicator for country code is stored in the variable \"Country Code\").\n",
    "\n",
    "Inspect this variable to get a sense of what it contains. Note that it includes indicators for both countries, regions, and income group.  Since we are only interested in the trends by income group, we want to filter the data to contain only the fertility rate for high, middle, and low income countries as well as the world average."
   ]
  },
  {
   "cell_type": "code",
   "execution_count": 62,
   "metadata": {},
   "outputs": [
    {
     "data": {
      "text/html": [
       "<div>\n",
       "<style scoped>\n",
       "    .dataframe tbody tr th:only-of-type {\n",
       "        vertical-align: middle;\n",
       "    }\n",
       "\n",
       "    .dataframe tbody tr th {\n",
       "        vertical-align: top;\n",
       "    }\n",
       "\n",
       "    .dataframe thead th {\n",
       "        text-align: right;\n",
       "    }\n",
       "</style>\n",
       "<table border=\"1\" class=\"dataframe\">\n",
       "  <thead>\n",
       "    <tr style=\"text-align: right;\">\n",
       "      <th></th>\n",
       "      <th>Country Name</th>\n",
       "      <th>Country Code</th>\n",
       "      <th>Indicator Name</th>\n",
       "      <th>Indicator Code</th>\n",
       "      <th>1960</th>\n",
       "      <th>1961</th>\n",
       "      <th>1962</th>\n",
       "      <th>1963</th>\n",
       "      <th>1964</th>\n",
       "      <th>1965</th>\n",
       "      <th>...</th>\n",
       "      <th>2009</th>\n",
       "      <th>2010</th>\n",
       "      <th>2011</th>\n",
       "      <th>2012</th>\n",
       "      <th>2013</th>\n",
       "      <th>2014</th>\n",
       "      <th>2015</th>\n",
       "      <th>2016</th>\n",
       "      <th>2017</th>\n",
       "      <th>Unnamed: 62</th>\n",
       "    </tr>\n",
       "  </thead>\n",
       "  <tbody>\n",
       "    <tr>\n",
       "      <td>8828</td>\n",
       "      <td>High income</td>\n",
       "      <td>HIC</td>\n",
       "      <td>Adolescent fertility rate (births per 1,000 wo...</td>\n",
       "      <td>SP.ADO.TFRT</td>\n",
       "      <td>45.568781</td>\n",
       "      <td>45.505764</td>\n",
       "      <td>45.412266</td>\n",
       "      <td>44.655191</td>\n",
       "      <td>43.893620</td>\n",
       "      <td>43.190973</td>\n",
       "      <td>...</td>\n",
       "      <td>19.658784</td>\n",
       "      <td>18.831649</td>\n",
       "      <td>18.010335</td>\n",
       "      <td>17.134966</td>\n",
       "      <td>15.846430</td>\n",
       "      <td>14.557770</td>\n",
       "      <td>13.294822</td>\n",
       "      <td>NaN</td>\n",
       "      <td>NaN</td>\n",
       "      <td>NaN</td>\n",
       "    </tr>\n",
       "    <tr>\n",
       "      <td>16388</td>\n",
       "      <td>Low income</td>\n",
       "      <td>LIC</td>\n",
       "      <td>Adolescent fertility rate (births per 1,000 wo...</td>\n",
       "      <td>SP.ADO.TFRT</td>\n",
       "      <td>136.809699</td>\n",
       "      <td>137.151934</td>\n",
       "      <td>137.260903</td>\n",
       "      <td>137.095157</td>\n",
       "      <td>137.155900</td>\n",
       "      <td>137.553544</td>\n",
       "      <td>...</td>\n",
       "      <td>111.512123</td>\n",
       "      <td>109.093451</td>\n",
       "      <td>106.634921</td>\n",
       "      <td>104.160008</td>\n",
       "      <td>101.565752</td>\n",
       "      <td>98.975745</td>\n",
       "      <td>96.406132</td>\n",
       "      <td>NaN</td>\n",
       "      <td>NaN</td>\n",
       "      <td>NaN</td>\n",
       "    </tr>\n",
       "    <tr>\n",
       "      <td>19538</td>\n",
       "      <td>Middle income</td>\n",
       "      <td>MIC</td>\n",
       "      <td>Adolescent fertility rate (births per 1,000 wo...</td>\n",
       "      <td>SP.ADO.TFRT</td>\n",
       "      <td>94.992020</td>\n",
       "      <td>94.991438</td>\n",
       "      <td>94.512157</td>\n",
       "      <td>93.019454</td>\n",
       "      <td>91.461136</td>\n",
       "      <td>89.932035</td>\n",
       "      <td>...</td>\n",
       "      <td>43.156538</td>\n",
       "      <td>42.864204</td>\n",
       "      <td>42.544629</td>\n",
       "      <td>42.204127</td>\n",
       "      <td>41.718475</td>\n",
       "      <td>41.140721</td>\n",
       "      <td>40.449470</td>\n",
       "      <td>NaN</td>\n",
       "      <td>NaN</td>\n",
       "      <td>NaN</td>\n",
       "    </tr>\n",
       "    <tr>\n",
       "      <td>28358</td>\n",
       "      <td>World</td>\n",
       "      <td>WLD</td>\n",
       "      <td>Adolescent fertility rate (births per 1,000 wo...</td>\n",
       "      <td>SP.ADO.TFRT</td>\n",
       "      <td>86.543221</td>\n",
       "      <td>86.358207</td>\n",
       "      <td>85.849010</td>\n",
       "      <td>84.514825</td>\n",
       "      <td>83.239324</td>\n",
       "      <td>82.134471</td>\n",
       "      <td>...</td>\n",
       "      <td>47.124429</td>\n",
       "      <td>46.809078</td>\n",
       "      <td>46.449420</td>\n",
       "      <td>46.067217</td>\n",
       "      <td>45.514490</td>\n",
       "      <td>44.883085</td>\n",
       "      <td>44.150339</td>\n",
       "      <td>NaN</td>\n",
       "      <td>NaN</td>\n",
       "      <td>NaN</td>\n",
       "    </tr>\n",
       "  </tbody>\n",
       "</table>\n",
       "<p>4 rows × 63 columns</p>\n",
       "</div>"
      ],
      "text/plain": [
       "        Country Name Country Code  \\\n",
       "8828     High income          HIC   \n",
       "16388     Low income          LIC   \n",
       "19538  Middle income          MIC   \n",
       "28358          World          WLD   \n",
       "\n",
       "                                          Indicator Name Indicator Code  \\\n",
       "8828   Adolescent fertility rate (births per 1,000 wo...    SP.ADO.TFRT   \n",
       "16388  Adolescent fertility rate (births per 1,000 wo...    SP.ADO.TFRT   \n",
       "19538  Adolescent fertility rate (births per 1,000 wo...    SP.ADO.TFRT   \n",
       "28358  Adolescent fertility rate (births per 1,000 wo...    SP.ADO.TFRT   \n",
       "\n",
       "             1960        1961        1962        1963        1964        1965  \\\n",
       "8828    45.568781   45.505764   45.412266   44.655191   43.893620   43.190973   \n",
       "16388  136.809699  137.151934  137.260903  137.095157  137.155900  137.553544   \n",
       "19538   94.992020   94.991438   94.512157   93.019454   91.461136   89.932035   \n",
       "28358   86.543221   86.358207   85.849010   84.514825   83.239324   82.134471   \n",
       "\n",
       "       ...        2009        2010        2011        2012        2013  \\\n",
       "8828   ...   19.658784   18.831649   18.010335   17.134966   15.846430   \n",
       "16388  ...  111.512123  109.093451  106.634921  104.160008  101.565752   \n",
       "19538  ...   43.156538   42.864204   42.544629   42.204127   41.718475   \n",
       "28358  ...   47.124429   46.809078   46.449420   46.067217   45.514490   \n",
       "\n",
       "            2014       2015  2016  2017  Unnamed: 62  \n",
       "8828   14.557770  13.294822   NaN   NaN          NaN  \n",
       "16388  98.975745  96.406132   NaN   NaN          NaN  \n",
       "19538  41.140721  40.449470   NaN   NaN          NaN  \n",
       "28358  44.883085  44.150339   NaN   NaN          NaN  \n",
       "\n",
       "[4 rows x 63 columns]"
      ]
     },
     "execution_count": 62,
     "metadata": {},
     "output_type": "execute_result"
    }
   ],
   "source": [
    "#teenager_fr.iloc[:,4:-3].plot(subplots=True, layout=(8,7));\n",
    "byincomelevel = teenager_fr[teenager_fr['Country Code'].isin([\"MIC\", \"LIC\",\"HIC\",\"WLD\"])]\n",
    "byincomelevel"
   ]
  },
  {
   "cell_type": "code",
   "execution_count": 92,
   "metadata": {},
   "outputs": [
    {
     "data": {
      "text/html": [
       "<div>\n",
       "<style scoped>\n",
       "    .dataframe tbody tr th:only-of-type {\n",
       "        vertical-align: middle;\n",
       "    }\n",
       "\n",
       "    .dataframe tbody tr th {\n",
       "        vertical-align: top;\n",
       "    }\n",
       "\n",
       "    .dataframe thead th {\n",
       "        text-align: right;\n",
       "    }\n",
       "</style>\n",
       "<table border=\"1\" class=\"dataframe\">\n",
       "  <thead>\n",
       "    <tr style=\"text-align: right;\">\n",
       "      <th>Country Name</th>\n",
       "      <th>High income</th>\n",
       "      <th>Low income</th>\n",
       "      <th>Middle income</th>\n",
       "      <th>World</th>\n",
       "    </tr>\n",
       "  </thead>\n",
       "  <tbody>\n",
       "    <tr>\n",
       "      <td>Country Name</td>\n",
       "      <td>High income</td>\n",
       "      <td>Low income</td>\n",
       "      <td>Middle income</td>\n",
       "      <td>World</td>\n",
       "    </tr>\n",
       "    <tr>\n",
       "      <td>Country Code</td>\n",
       "      <td>HIC</td>\n",
       "      <td>LIC</td>\n",
       "      <td>MIC</td>\n",
       "      <td>WLD</td>\n",
       "    </tr>\n",
       "    <tr>\n",
       "      <td>Indicator Name</td>\n",
       "      <td>Adolescent fertility rate (births per 1,000 wo...</td>\n",
       "      <td>Adolescent fertility rate (births per 1,000 wo...</td>\n",
       "      <td>Adolescent fertility rate (births per 1,000 wo...</td>\n",
       "      <td>Adolescent fertility rate (births per 1,000 wo...</td>\n",
       "    </tr>\n",
       "    <tr>\n",
       "      <td>Indicator Code</td>\n",
       "      <td>SP.ADO.TFRT</td>\n",
       "      <td>SP.ADO.TFRT</td>\n",
       "      <td>SP.ADO.TFRT</td>\n",
       "      <td>SP.ADO.TFRT</td>\n",
       "    </tr>\n",
       "    <tr>\n",
       "      <td>1960</td>\n",
       "      <td>45.5688</td>\n",
       "      <td>136.81</td>\n",
       "      <td>94.992</td>\n",
       "      <td>86.5432</td>\n",
       "    </tr>\n",
       "    <tr>\n",
       "      <td>...</td>\n",
       "      <td>...</td>\n",
       "      <td>...</td>\n",
       "      <td>...</td>\n",
       "      <td>...</td>\n",
       "    </tr>\n",
       "    <tr>\n",
       "      <td>2014</td>\n",
       "      <td>14.5578</td>\n",
       "      <td>98.9757</td>\n",
       "      <td>41.1407</td>\n",
       "      <td>44.8831</td>\n",
       "    </tr>\n",
       "    <tr>\n",
       "      <td>2015</td>\n",
       "      <td>13.2948</td>\n",
       "      <td>96.4061</td>\n",
       "      <td>40.4495</td>\n",
       "      <td>44.1503</td>\n",
       "    </tr>\n",
       "    <tr>\n",
       "      <td>2016</td>\n",
       "      <td>NaN</td>\n",
       "      <td>NaN</td>\n",
       "      <td>NaN</td>\n",
       "      <td>NaN</td>\n",
       "    </tr>\n",
       "    <tr>\n",
       "      <td>2017</td>\n",
       "      <td>NaN</td>\n",
       "      <td>NaN</td>\n",
       "      <td>NaN</td>\n",
       "      <td>NaN</td>\n",
       "    </tr>\n",
       "    <tr>\n",
       "      <td>Unnamed: 62</td>\n",
       "      <td>NaN</td>\n",
       "      <td>NaN</td>\n",
       "      <td>NaN</td>\n",
       "      <td>NaN</td>\n",
       "    </tr>\n",
       "  </tbody>\n",
       "</table>\n",
       "<p>63 rows × 4 columns</p>\n",
       "</div>"
      ],
      "text/plain": [
       "Country Name                                          High income  \\\n",
       "Country Name                                          High income   \n",
       "Country Code                                                  HIC   \n",
       "Indicator Name  Adolescent fertility rate (births per 1,000 wo...   \n",
       "Indicator Code                                        SP.ADO.TFRT   \n",
       "1960                                                      45.5688   \n",
       "...                                                           ...   \n",
       "2014                                                      14.5578   \n",
       "2015                                                      13.2948   \n",
       "2016                                                          NaN   \n",
       "2017                                                          NaN   \n",
       "Unnamed: 62                                                   NaN   \n",
       "\n",
       "Country Name                                           Low income  \\\n",
       "Country Name                                           Low income   \n",
       "Country Code                                                  LIC   \n",
       "Indicator Name  Adolescent fertility rate (births per 1,000 wo...   \n",
       "Indicator Code                                        SP.ADO.TFRT   \n",
       "1960                                                       136.81   \n",
       "...                                                           ...   \n",
       "2014                                                      98.9757   \n",
       "2015                                                      96.4061   \n",
       "2016                                                          NaN   \n",
       "2017                                                          NaN   \n",
       "Unnamed: 62                                                   NaN   \n",
       "\n",
       "Country Name                                        Middle income  \\\n",
       "Country Name                                        Middle income   \n",
       "Country Code                                                  MIC   \n",
       "Indicator Name  Adolescent fertility rate (births per 1,000 wo...   \n",
       "Indicator Code                                        SP.ADO.TFRT   \n",
       "1960                                                       94.992   \n",
       "...                                                           ...   \n",
       "2014                                                      41.1407   \n",
       "2015                                                      40.4495   \n",
       "2016                                                          NaN   \n",
       "2017                                                          NaN   \n",
       "Unnamed: 62                                                   NaN   \n",
       "\n",
       "Country Name                                                World  \n",
       "Country Name                                                World  \n",
       "Country Code                                                  WLD  \n",
       "Indicator Name  Adolescent fertility rate (births per 1,000 wo...  \n",
       "Indicator Code                                        SP.ADO.TFRT  \n",
       "1960                                                      86.5432  \n",
       "...                                                           ...  \n",
       "2014                                                      44.8831  \n",
       "2015                                                      44.1503  \n",
       "2016                                                          NaN  \n",
       "2017                                                          NaN  \n",
       "Unnamed: 62                                                   NaN  \n",
       "\n",
       "[63 rows x 4 columns]"
      ]
     },
     "execution_count": 92,
     "metadata": {},
     "output_type": "execute_result"
    }
   ],
   "source": [
    "byincomelevel = teenager_fr[teenager_fr['Country Code'].isin([\"MIC\", \"LIC\",\"HIC\",\"WLD\"])]\n",
    "byincomelevel_T = byincomelevel.T\n",
    "byincomelevel_T.columns = byincomelevel_T.iloc[0]\n",
    "byincomelevel_T"
   ]
  },
  {
   "cell_type": "code",
   "execution_count": 79,
   "metadata": {},
   "outputs": [
    {
     "data": {
      "text/html": [
       "<div>\n",
       "<style scoped>\n",
       "    .dataframe tbody tr th:only-of-type {\n",
       "        vertical-align: middle;\n",
       "    }\n",
       "\n",
       "    .dataframe tbody tr th {\n",
       "        vertical-align: top;\n",
       "    }\n",
       "\n",
       "    .dataframe thead th {\n",
       "        text-align: right;\n",
       "    }\n",
       "</style>\n",
       "<table border=\"1\" class=\"dataframe\">\n",
       "  <thead>\n",
       "    <tr style=\"text-align: right;\">\n",
       "      <th>Year</th>\n",
       "      <th>High income</th>\n",
       "      <th>Low income</th>\n",
       "      <th>Middle income</th>\n",
       "      <th>World</th>\n",
       "    </tr>\n",
       "  </thead>\n",
       "  <tbody>\n",
       "    <tr>\n",
       "      <td>1960</td>\n",
       "      <td>45.5688</td>\n",
       "      <td>136.81</td>\n",
       "      <td>94.992</td>\n",
       "      <td>86.5432</td>\n",
       "    </tr>\n",
       "    <tr>\n",
       "      <td>1961</td>\n",
       "      <td>45.5058</td>\n",
       "      <td>137.152</td>\n",
       "      <td>94.9914</td>\n",
       "      <td>86.3582</td>\n",
       "    </tr>\n",
       "    <tr>\n",
       "      <td>1962</td>\n",
       "      <td>45.4123</td>\n",
       "      <td>137.261</td>\n",
       "      <td>94.5122</td>\n",
       "      <td>85.849</td>\n",
       "    </tr>\n",
       "    <tr>\n",
       "      <td>1963</td>\n",
       "      <td>44.6552</td>\n",
       "      <td>137.095</td>\n",
       "      <td>93.0195</td>\n",
       "      <td>84.5148</td>\n",
       "    </tr>\n",
       "    <tr>\n",
       "      <td>1964</td>\n",
       "      <td>43.8936</td>\n",
       "      <td>137.156</td>\n",
       "      <td>91.4611</td>\n",
       "      <td>83.2393</td>\n",
       "    </tr>\n",
       "  </tbody>\n",
       "</table>\n",
       "</div>"
      ],
      "text/plain": [
       "Year High income Low income Middle income    World\n",
       "1960     45.5688     136.81        94.992  86.5432\n",
       "1961     45.5058    137.152       94.9914  86.3582\n",
       "1962     45.4123    137.261       94.5122   85.849\n",
       "1963     44.6552    137.095       93.0195  84.5148\n",
       "1964     43.8936    137.156       91.4611  83.2393"
      ]
     },
     "execution_count": 79,
     "metadata": {},
     "output_type": "execute_result"
    }
   ],
   "source": [
    "byincomelevel = teenager_fr[teenager_fr['Country Code'].isin([\"MIC\", \"LIC\",\"HIC\",\"WLD\"])]\n",
    "byincomelevel_T = byincomelevel.T\n",
    "byincomelevel_T.columns = byincomelevel_T.iloc[0]\n",
    "byincomelevel_T = byincomelevel_T.iloc[4:-3,:]\n",
    "byincomelevel_T.columns.rename(\"Year\",inplace=True)\n",
    "byincomelevel_T.head()"
   ]
  },
  {
   "cell_type": "code",
   "execution_count": 88,
   "metadata": {},
   "outputs": [
    {
     "data": {
      "image/png": "[encoded data removed]",
      "text/plain": [
       "<Figure size 1080x288 with 1 Axes>"
      ]
     },
     "metadata": {
      "needs_background": "light"
     },
     "output_type": "display_data"
    }
   ],
   "source": [
    "#plt.figure(figsize=(20,10))\n",
    "byincomelevel_T.plot(figsize=(15,4));\n",
    "plt.title(\"Adolescent Fertility Rate for low, middle and high income countries\");"
   ]
  },
  {
   "cell_type": "markdown",
   "metadata": {},
   "source": [
    "Conclusions:\n",
    "1. While the rate for high income countries presents a decreasing trend in the period, the rate for low income countries fluctuates until the mid-nineties when it becomes to decrease significantly.\n",
    "2. The gap between high and middle income countries is lower in 2014 than in 1960, while the gap between low and middle income countries is actually larger in 2014 than it is in 1960.\n",
    "3. Since the mid-nineties, the rate for low income countries has decreased more than it has for high and middle income countries. "
   ]
  },
  {
   "cell_type": "code",
   "execution_count": null,
   "metadata": {},
   "outputs": [],
   "source": []
  },
  {
   "cell_type": "markdown",
   "metadata": {},
   "source": [
    "Now, we are not going to consider the trends of the different categories over the years. Instead, we are going to compare how the distribution of the Adolescent Fertility Rate is different between 1960 and 2000."
   ]
  },
  {
   "cell_type": "markdown",
   "metadata": {},
   "source": [
    "Histogram"
   ]
  },
  {
   "cell_type": "code",
   "execution_count": 105,
   "metadata": {},
   "outputs": [
    {
     "data": {
      "text/plain": [
       "<matplotlib.axes._subplots.AxesSubplot at 0x7f8b90fc5ac8>"
      ]
     },
     "execution_count": 105,
     "metadata": {},
     "output_type": "execute_result"
    },
    {
     "data": {
      "image/png": "[encoded data removed]",
      "text/plain": [
       "<Figure size 432x288 with 1 Axes>"
      ]
     },
     "metadata": {
      "needs_background": "light"
     },
     "output_type": "display_data"
    }
   ],
   "source": [
    "teenager_fr[[\"1960\",\"2000\"]].plot(kind=\"hist\",alpha=0.5,bins=50)"
   ]
  },
  {
   "cell_type": "markdown",
   "metadata": {},
   "source": [
    "KDE"
   ]
  },
  {
   "cell_type": "code",
   "execution_count": 159,
   "metadata": {},
   "outputs": [
    {
     "name": "stdout",
     "output_type": "stream",
     "text": [
      "BandWidth =  0.1\n"
     ]
    },
    {
     "data": {
      "image/png": "[encoded data removed]",
      "text/plain": [
       "<Figure size 432x288 with 1 Axes>"
      ]
     },
     "metadata": {
      "needs_background": "light"
     },
     "output_type": "display_data"
    },
    {
     "name": "stdout",
     "output_type": "stream",
     "text": [
      "BandWidth =  0.15000000000000002\n"
     ]
    },
    {
     "data": {
      "image/png": "[encoded data removed]",
      "text/plain": [
       "<Figure size 432x288 with 1 Axes>"
      ]
     },
     "metadata": {
      "needs_background": "light"
     },
     "output_type": "display_data"
    },
    {
     "name": "stdout",
     "output_type": "stream",
     "text": [
      "BandWidth =  0.2\n"
     ]
    },
    {
     "data": {
      "image/png": "[encoded data removed]",
      "text/plain": [
       "<Figure size 432x288 with 1 Axes>"
      ]
     },
     "metadata": {
      "needs_background": "light"
     },
     "output_type": "display_data"
    }
   ],
   "source": [
    "kernel = [\"gau\",\"cos\",\"biw\",\"epa\",\"tri\",\"triw\"]\n",
    "bw = [\"scott\", \"silverman\"]\n",
    "b_ = np.linspace(0.1, 0.2, num=3)\n",
    "#bw.append(b_)\n",
    "for a in b_:\n",
    "    print(\"BandWidth = \",a)\n",
    "    sns.kdeplot(teenager_fr[\"1960\"].dropna(),shade=True,bw=a)\n",
    "    sns.kdeplot(teenager_fr[\"2000\"].dropna(),shade=True,bw=a)\n",
    "    plt.show()"
   ]
  },
  {
   "cell_type": "markdown",
   "metadata": {},
   "source": [
    "CDF"
   ]
  },
  {
   "cell_type": "code",
   "execution_count": 184,
   "metadata": {},
   "outputs": [
    {
     "data": {
      "image/png": "[encoded data removed]",
      "text/plain": [
       "<Figure size 432x288 with 1 Axes>"
      ]
     },
     "metadata": {
      "needs_background": "light"
     },
     "output_type": "display_data"
    }
   ],
   "source": [
    "plt.title(\"Empirical Cumulative Distribution\");\n",
    "teenager_fr[\"1960\"].dropna().plot(kind=\"hist\",density=True,cumulative=True,alpha=0.5,legend = True);\n",
    "teenager_fr[\"2000\"].dropna().plot(kind=\"hist\",density=True,cumulative=True,alpha=0.5,legend = True);\n",
    "#sns.kdeplot(teenager_fr[\"2000\"].dropna(),cumulative=True)"
   ]
  },
  {
   "cell_type": "markdown",
   "metadata": {},
   "source": [
    " We can determine whether the distribution used to construct the 1960 series satisfies the First Order Stochastic Dominance property over the distribution used to construct the 2000 series."
   ]
  },
  {
   "cell_type": "code",
   "execution_count": 181,
   "metadata": {},
   "outputs": [],
   "source": [
    "# cf = pd.Series(teenager_fr[\"1960\"].dropna()).value_counts(normalize=True).sort_index().cumsum()\n",
    "# sns.barplot(x=cf.index[200:], y=cf.values[00:], palette=\"rocket\")"
   ]
  },
  {
   "cell_type": "raw",
   "metadata": {},
   "source": [
    "Citation:- https://courses.edx.org/courses/course MITx + 14.310x(Data Analysis For Social Scientists)\n",
    "Data - world bank "
   ]
  },
  {
   "cell_type": "code",
   "execution_count": null,
   "metadata": {},
   "outputs": [],
   "source": []
  }
 ],
 "metadata": {
  "kernelspec": {
   "display_name": "Python 3",
   "language": "python",
   "name": "python3"
  },
  "language_info": {
   "codemirror_mode": {
    "name": "ipython",
    "version": 3
   },
   "file_extension": ".py",
   "mimetype": "text/x-python",
   "name": "python",
   "nbconvert_exporter": "python",
   "pygments_lexer": "ipython3",
   "version": "3.7.1"
  }
 },
 "nbformat": 4,
 "nbformat_minor": 2
}
